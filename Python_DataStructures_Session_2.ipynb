{
  "nbformat": 4,
  "nbformat_minor": 0,
  "metadata": {
    "colab": {
      "name": "Python_DataStructures_Session_2.ipynb",
      "provenance": [],
      "authorship_tag": "ABX9TyOu9/G6t7EppLcIM0mLbmsv",
      "include_colab_link": true
    },
    "kernelspec": {
      "name": "python3",
      "display_name": "Python 3"
    },
    "language_info": {
      "name": "python"
    }
  },
  "cells": [
    {
      "cell_type": "markdown",
      "metadata": {
        "id": "view-in-github",
        "colab_type": "text"
      },
      "source": [
        "<a href=\"https://colab.research.google.com/github/CodeWithAnkit1/CodeWithAnkit1/blob/main/Python_DataStructures_Session_2.ipynb\" target=\"_parent\"><img src=\"https://colab.research.google.com/assets/colab-badge.svg\" alt=\"Open In Colab\"/></a>"
      ]
    },
    {
      "cell_type": "code",
      "execution_count": 2,
      "metadata": {
        "colab": {
          "base_uri": "https://localhost:8080/"
        },
        "id": "dIBhZ9_Mf8yx",
        "outputId": "5009049b-5a33-4a11-a35c-f6d80b988b19"
      },
      "outputs": [
        {
          "output_type": "stream",
          "name": "stdout",
          "text": [
            "False <class 'bool'>\n"
          ]
        }
      ],
      "source": [
        "##Dictionaries\n",
        "\n",
        "name = 'ronaldo'\n",
        "isGoodPlayer = 'True'\n",
        "age = 78\n",
        "height = 185.86\n",
        "isIndian = False \n",
        "print(isIndian, type(isIndian))\n",
        "\n",
        "#my_var = ['ronaldo']\n"
      ]
    },
    {
      "cell_type": "code",
      "source": [
        "#list\n",
        "my_var = [name, isGoodPlayer, age, height]\n",
        "print(my_var, type(my_var))\n",
        "\n",
        "#Tupple\n",
        "my_var = (name, isGoodPlayer, age, height)\n",
        "print(my_var, type(my_var))\n",
        "\n",
        "#Set\n",
        "my_var = {name, isGoodPlayer, age, height}\n",
        "print(my_var, type(my_var))\n",
        "\n",
        "#Dictionary\n",
        "my_var = {'name':name, 'isGoodPlayer':isGoodPlayer, 'age':age, 'height':height}\n",
        "print(my_var, type(my_var))"
      ],
      "metadata": {
        "colab": {
          "base_uri": "https://localhost:8080/"
        },
        "id": "RAdLTy2Aiv5S",
        "outputId": "70f47bf7-847b-45e3-f60c-832f2ddaed51"
      },
      "execution_count": 5,
      "outputs": [
        {
          "output_type": "stream",
          "name": "stdout",
          "text": [
            "['ronaldo', 'True', 78, 185.86] <class 'list'>\n",
            "('ronaldo', 'True', 78, 185.86) <class 'tuple'>\n",
            "{'ronaldo', 185.86, 'True', 78} <class 'set'>\n",
            "{'name': 'ronaldo', 'isGoodPlayer': 'True', 'age': 78, 'height': 185.86} <class 'dict'>\n"
          ]
        }
      ]
    },
    {
      "cell_type": "code",
      "source": [
        "lang = {'en':'English', 'fr':'French', 'hi':'HINDI', 'gr':'German'}\n",
        "print(lang, type(lang))\n",
        "\n",
        "##Querying disctionary key needs [] sqare brackets (remember)\n",
        "print(lang['en'])\n",
        "\n",
        "sameMeaning = {'pride': ['delight', 'dignity', 'joy']}\n",
        "print(sameMeaning, type(sameMeaning))\n",
        "print(sameMeaning['pride'], type(sameMeaning['pride']))"
      ],
      "metadata": {
        "colab": {
          "base_uri": "https://localhost:8080/"
        },
        "id": "oXgZ3xgAjlXt",
        "outputId": "4e8e4e34-61a8-492c-fcac-4747c5cdf67d"
      },
      "execution_count": 11,
      "outputs": [
        {
          "output_type": "stream",
          "name": "stdout",
          "text": [
            "{'en': 'English', 'fr': 'French', 'hi': 'HINDI', 'gr': 'German'} <class 'dict'>\n",
            "English\n",
            "{'pride': ['delight', 'dignity', 'joy']} <class 'dict'>\n",
            "['delight', 'dignity', 'joy'] <class 'list'>\n"
          ]
        }
      ]
    },
    {
      "cell_type": "code",
      "source": [
        "lang = {'en':'English', 'fr':'French', 'hi':'HINDI', 'gr':'German'}\n",
        "print(lang, type(lang))\n",
        "#reading values from disctionary\n",
        "print(lang['en'], lang['en'])\n",
        "\n",
        "#Adding keyvalue pair to disctioanry\n",
        "\n",
        "lang['pu'] = 'Punjabi'\n",
        "print(lang, type(lang))\n",
        "\n",
        "#Update value corresponding to key in dictionary\n",
        "lang['hi'] = 'Hindi'\n",
        "print(lang, type(lang))\n",
        "\n",
        "#in Python disct if you try assigning  values rto key that doesnt exist\n",
        "#it will add or else it will update if already exists\n",
        "\n",
        "\n",
        "#delete key value pair in dict\n",
        "del lang['hi']\n",
        "print(lang, type(lang))\n",
        "\n",
        "\n",
        "#For updating a key first need to remove key value pair for that key and then insert new one\n",
        "\n"
      ],
      "metadata": {
        "colab": {
          "base_uri": "https://localhost:8080/"
        },
        "id": "PjWHlfANk5rn",
        "outputId": "2695f7ed-cea5-4d21-e4c0-3225ae8b207d"
      },
      "execution_count": 15,
      "outputs": [
        {
          "output_type": "stream",
          "name": "stdout",
          "text": [
            "{'en': 'English', 'fr': 'French', 'hi': 'HINDI', 'gr': 'German'} <class 'dict'>\n",
            "English English\n",
            "{'en': 'English', 'fr': 'French', 'hi': 'HINDI', 'gr': 'German', 'pu': 'Punjabi'} <class 'dict'>\n",
            "{'en': 'English', 'fr': 'French', 'hi': 'Hindi', 'gr': 'German', 'pu': 'Punjabi'} <class 'dict'>\n",
            "{'en': 'English', 'fr': 'French', 'gr': 'German', 'pu': 'Punjabi'} <class 'dict'>\n"
          ]
        }
      ]
    },
    {
      "cell_type": "code",
      "source": [
        "# Values in dictionary ca be anything\n",
        "# key on the other note is not same, it should always be unique\n",
        "# elements in set and keys in dict cannot be mutable/editable data structures (list, disctionarey, set) \n",
        "# All primitive data strcures were mutable i.e. string, int, float, Bool\n",
        "\n",
        "# errorDict = {[1,2]: 'Error'}\n",
        "# errorDict = {{1,2}: 'Error'}\n",
        "# errorDict = {[1,2]: 'Error'}\n",
        "errorDict = {(1,2): 'Error'}\n",
        "print(errorDict, type(errorDict))\n"
      ],
      "metadata": {
        "colab": {
          "base_uri": "https://localhost:8080/"
        },
        "id": "aMoP5l8-mIwz",
        "outputId": "0027fb05-e520-4b1a-98eb-8b2a3121bf53"
      },
      "execution_count": 17,
      "outputs": [
        {
          "output_type": "stream",
          "name": "stdout",
          "text": [
            "{(1, 2): 'Error'} <class 'dict'>\n"
          ]
        }
      ]
    },
    {
      "cell_type": "code",
      "source": [
        "railway_codes = {'NDLS': 'new Delhi'}\n",
        "print(railway_codes, type(railway_codes))\n"
      ],
      "metadata": {
        "colab": {
          "base_uri": "https://localhost:8080/"
        },
        "id": "GGnKG-bJnqRN",
        "outputId": "5453d670-ac1e-4d96-a1ac-8f1a37bd6740"
      },
      "execution_count": 18,
      "outputs": [
        {
          "output_type": "stream",
          "name": "stdout",
          "text": [
            "{'NDLS': 'new Delhi'} <class 'dict'>\n"
          ]
        }
      ]
    },
    {
      "cell_type": "code",
      "source": [
        "lang = {'en':'English', 'fr':'French', 'hi':'HINDI', 'gr':'German'}\n",
        "print(lang, type(lang))\n",
        "\n",
        "print(lang['fr'])\n",
        "\n",
        "#Method 1:\n",
        "if 'pb' in lang:\n",
        "    print(lang['pb'])\n",
        "else:\n",
        "    print('key not found')\n",
        "\n",
        "#Better Method 2:\n",
        "\n",
        "print(lang.get('pb','Key not found'))\n",
        "\n",
        "print(lang.get('fr','Key not found'))"
      ],
      "metadata": {
        "colab": {
          "base_uri": "https://localhost:8080/"
        },
        "id": "KTsFTPWfnnKE",
        "outputId": "7d1d5103-4884-4186-d60b-7829c4bc7955"
      },
      "execution_count": 20,
      "outputs": [
        {
          "output_type": "stream",
          "name": "stdout",
          "text": [
            "{'en': 'English', 'fr': 'French', 'hi': 'HINDI', 'gr': 'German'} <class 'dict'>\n",
            "French\n",
            "key not found\n",
            "Key not found\n",
            "French\n"
          ]
        }
      ]
    },
    {
      "cell_type": "code",
      "source": [
        "lang = {'en':'English', 'fr':'French', 'hi':'HINDI', 'gr':'German'}\n",
        "print(lang, type(lang))\n",
        "\n",
        "for l in lang:\n",
        "  print (l)\n",
        "\n",
        "for l in lang:\n",
        "  #print (lang.get[l])   ##\n",
        "  print (l,'\\t',lang[l])\n",
        "  print (lang.get(l)) "
      ],
      "metadata": {
        "colab": {
          "base_uri": "https://localhost:8080/"
        },
        "id": "hJh-xxDxogzx",
        "outputId": "efb05935-c121-4a4c-de0b-d5f9a9bf214d"
      },
      "execution_count": 27,
      "outputs": [
        {
          "output_type": "stream",
          "name": "stdout",
          "text": [
            "{'en': 'English', 'fr': 'French', 'hi': 'HINDI', 'gr': 'German'} <class 'dict'>\n",
            "en\n",
            "fr\n",
            "hi\n",
            "gr\n",
            "en \t English\n",
            "English\n",
            "fr \t French\n",
            "French\n",
            "hi \t HINDI\n",
            "HINDI\n",
            "gr \t German\n",
            "German\n"
          ]
        }
      ]
    },
    {
      "cell_type": "code",
      "source": [
        "lang = {'en':'English', 'fr':'French', 'hi':'HINDI', 'gr':'German'}\n",
        "print(lang, type(lang))\n",
        "\n",
        "# Get keys\n",
        "print (lang.keys()) \n",
        "\n",
        "# Get Values\n",
        "print (lang.values())\n",
        "\n",
        "##items **** (both key and values)\n",
        "\n",
        "print (lang.items(), type(lang.items()))"
      ],
      "metadata": {
        "colab": {
          "base_uri": "https://localhost:8080/"
        },
        "id": "X0pbbJFUp2F3",
        "outputId": "74dbe12c-9a23-42ba-f0fc-7e0ab76cde53"
      },
      "execution_count": 30,
      "outputs": [
        {
          "output_type": "stream",
          "name": "stdout",
          "text": [
            "{'en': 'English', 'fr': 'French', 'hi': 'HINDI', 'gr': 'German'} <class 'dict'>\n",
            "dict_keys(['en', 'fr', 'hi', 'gr'])\n",
            "dict_values(['English', 'French', 'HINDI', 'German'])\n",
            "dict_items([('en', 'English'), ('fr', 'French'), ('hi', 'HINDI'), ('gr', 'German')]) <class 'dict_items'>\n"
          ]
        }
      ]
    },
    {
      "cell_type": "code",
      "source": [
        "for myTuple in lang.items():\n",
        "    print(myTuple)\n",
        "\n",
        "## Unpacking tuple\n",
        "print('\\n','Unpacking','\\n')\n",
        "\n",
        "for myTuple in lang.items():\n",
        "    key, value = myTuple\n",
        "    print(key, value)\n",
        "\n",
        "#Alternate Method\n",
        "print('\\n','Alternate Method','\\n')\n",
        "for key, value in lang.items():\n",
        "    #key, value = myTuple\n",
        "    print(key, value)"
      ],
      "metadata": {
        "colab": {
          "base_uri": "https://localhost:8080/"
        },
        "id": "w1SKWzGsqblJ",
        "outputId": "fa29e422-0713-41a5-bc93-f249d474cf25"
      },
      "execution_count": 37,
      "outputs": [
        {
          "output_type": "stream",
          "name": "stdout",
          "text": [
            "('en', 'English')\n",
            "('fr', 'French')\n",
            "('hi', 'HINDI')\n",
            "('gr', 'German')\n",
            "\n",
            " Unpacking \n",
            "\n",
            "en English\n",
            "fr French\n",
            "hi HINDI\n",
            "gr German\n",
            "\n",
            " Alternate Method \n",
            "\n",
            "en English\n",
            "fr French\n",
            "hi HINDI\n",
            "gr German\n"
          ]
        }
      ]
    },
    {
      "cell_type": "code",
      "source": [
        "name = 'ronaldo'\n",
        "teams = ('rm','ju','mu')\n",
        "player = [name, teams]\n",
        "\n",
        "#print (name[0])\n",
        "print (player)\n",
        "# Print first charter of palayers name using player variable\n",
        "print (player[0][0])\n",
        "\n",
        "#print last team for ronaldi \n",
        "print (player[1][2])\n",
        "\n",
        "print (player[1][-1])"
      ],
      "metadata": {
        "colab": {
          "base_uri": "https://localhost:8080/"
        },
        "id": "Z81TlH0KrXU8",
        "outputId": "c3e6ebf1-a3c1-4e68-8389-58f97197d78f"
      },
      "execution_count": 45,
      "outputs": [
        {
          "output_type": "stream",
          "name": "stdout",
          "text": [
            "['ronaldo', ('rm', 'ju', 'mu')]\n",
            "r\n",
            "mu\n",
            "mu\n"
          ]
        }
      ]
    },
    {
      "cell_type": "code",
      "source": [
        "# print 7 raise to power 4\n",
        "\n",
        "print(7*7*7*7,7**4)"
      ],
      "metadata": {
        "colab": {
          "base_uri": "https://localhost:8080/"
        },
        "id": "rkBB6ebgtgOP",
        "outputId": "005ebcd6-0591-4d8a-8a5b-69d496ac08ac"
      },
      "execution_count": 47,
      "outputs": [
        {
          "output_type": "stream",
          "name": "stdout",
          "text": [
            "2401 2401\n"
          ]
        }
      ]
    },
    {
      "cell_type": "code",
      "source": [
        "#fstring\n",
        "#2 Using string formatting print: diameter of earth is 12734\n",
        "planet = 'earth'\n",
        "diameter = 12734\n",
        "\n",
        "print(f\"diameter of {planet} is  {diameter}\")\n",
        "\n",
        "planet = 'mars'\n",
        "diameter = 78678.897897\n",
        "\n",
        "print(f\"diameter of {planet} is  {diameter}\")"
      ],
      "metadata": {
        "colab": {
          "base_uri": "https://localhost:8080/"
        },
        "id": "7s4r2nO2trkZ",
        "outputId": "ad5943ea-602f-441b-dfb5-2910aadbd076"
      },
      "execution_count": 56,
      "outputs": [
        {
          "output_type": "stream",
          "name": "stdout",
          "text": [
            "diameter of earth is  12734\n",
            "diameter of mars is  78678.897897\n"
          ]
        }
      ]
    },
    {
      "cell_type": "code",
      "source": [
        "#Splitting string to list\n",
        "\n",
        "s = 'this is python programming'\n",
        "print(s.split())  # by default split happens on white space\n",
        "\n",
        "print(s.split('is'))  # by default split happens on white space"
      ],
      "metadata": {
        "colab": {
          "base_uri": "https://localhost:8080/"
        },
        "id": "VIZz8oQmukHB",
        "outputId": "25f769d3-886a-4a88-d557-5604cc72a92e"
      },
      "execution_count": 58,
      "outputs": [
        {
          "output_type": "stream",
          "name": "stdout",
          "text": [
            "['this', 'is', 'python', 'programming']\n",
            "['th', ' ', ' python programming']\n"
          ]
        }
      ]
    },
    {
      "cell_type": "code",
      "source": [
        "#4 get all the words in the string that contain *\n",
        "# hint split and then use a loop\n",
        "giftBox = 'bread iph*one butter ip*ad milk'\n",
        "\n",
        "print(giftBox.split())\n",
        "x = giftBox.split()\n",
        "#Quick search for this in something\n",
        "for i in x:\n",
        "  if '*' in i:\n",
        "    print(i) \n"
      ],
      "metadata": {
        "colab": {
          "base_uri": "https://localhost:8080/"
        },
        "id": "6mxvQV2ovTBK",
        "outputId": "513b6d94-c0c6-40ec-df9b-e183dde39212"
      },
      "execution_count": 62,
      "outputs": [
        {
          "output_type": "stream",
          "name": "stdout",
          "text": [
            "['bread', 'iph*one', 'butter', 'ip*ad', 'milk']\n",
            "iph*one\n",
            "ip*ad\n"
          ]
        }
      ]
    },
    {
      "cell_type": "code",
      "source": [
        "#***************#5 filter colors starting with vowel a, e, i, o, u\n",
        "colors = 'red orange blue indigo green'\n",
        "\n",
        "x = ['a','e','i','o','u']\n",
        "y = colors.split()\n",
        "print(y)\n",
        "\n",
        "#print (y)\n",
        "for i in y:\n",
        "  #print (i)\n",
        "  #print (f'{i} starts with {i[0]}')\n",
        "  if i[0] in 'aeiou':\n",
        "    print(i)\n",
        "\n"
      ],
      "metadata": {
        "colab": {
          "base_uri": "https://localhost:8080/"
        },
        "id": "Nfir1vUAxxoe",
        "outputId": "29887bb9-6fcb-4b3e-b2ae-ecc5ce6ef470"
      },
      "execution_count": 84,
      "outputs": [
        {
          "output_type": "stream",
          "name": "stdout",
          "text": [
            "['red', 'orange', 'blue', 'indigo', 'green']\n",
            "orange\n",
            "indigo\n"
          ]
        }
      ]
    },
    {
      "cell_type": "code",
      "source": [
        "# 6 Given a nested list, grab and print 'hello'\n",
        "lst = [1,2,[3,4],[5,[100,200,[True,'hello'], False],'hi'],10,11]\n",
        "\n",
        "print(lst[3][1][2][1])"
      ],
      "metadata": {
        "colab": {
          "base_uri": "https://localhost:8080/"
        },
        "id": "d3-uX1MU1QG2",
        "outputId": "f6b9aa2a-7120-4d58-c92d-560f4adde250"
      },
      "execution_count": 91,
      "outputs": [
        {
          "output_type": "stream",
          "name": "stdout",
          "text": [
            "hello\n"
          ]
        }
      ]
    },
    {
      "cell_type": "code",
      "source": [
        "# 7 Given a nested dict, grab and print 'hello'\n",
        "# use indexes, dict keys and splitting of strings\n",
        "dct = {'here':[1,2,3,{'target':(False,{'color':'black','greetings':['hello world']})}]}\n",
        "\n",
        "print(dct.values(),type(dct.values()))\n",
        "x = dct.values()\n",
        "y = x.keys()\n",
        "print(x)"
      ],
      "metadata": {
        "colab": {
          "base_uri": "https://localhost:8080/",
          "height": 234
        },
        "id": "h-50215g7pAi",
        "outputId": "a78de709-59d7-46d2-f6d1-92d503cac31f"
      },
      "execution_count": 109,
      "outputs": [
        {
          "output_type": "stream",
          "name": "stdout",
          "text": [
            "dict_values([[1, 2, 3, {'target': (False, {'color': 'black', 'greetings': ['hello world']})}]]) <class 'dict_values'>\n"
          ]
        },
        {
          "output_type": "error",
          "ename": "AttributeError",
          "evalue": "ignored",
          "traceback": [
            "\u001b[0;31m---------------------------------------------------------------------------\u001b[0m",
            "\u001b[0;31mAttributeError\u001b[0m                            Traceback (most recent call last)",
            "\u001b[0;32m<ipython-input-109-8a528fdb55b3>\u001b[0m in \u001b[0;36m<module>\u001b[0;34m()\u001b[0m\n\u001b[1;32m      5\u001b[0m \u001b[0mprint\u001b[0m\u001b[0;34m(\u001b[0m\u001b[0mdct\u001b[0m\u001b[0;34m.\u001b[0m\u001b[0mvalues\u001b[0m\u001b[0;34m(\u001b[0m\u001b[0;34m)\u001b[0m\u001b[0;34m,\u001b[0m\u001b[0mtype\u001b[0m\u001b[0;34m(\u001b[0m\u001b[0mdct\u001b[0m\u001b[0;34m.\u001b[0m\u001b[0mvalues\u001b[0m\u001b[0;34m(\u001b[0m\u001b[0;34m)\u001b[0m\u001b[0;34m)\u001b[0m\u001b[0;34m)\u001b[0m\u001b[0;34m\u001b[0m\u001b[0;34m\u001b[0m\u001b[0m\n\u001b[1;32m      6\u001b[0m \u001b[0mx\u001b[0m \u001b[0;34m=\u001b[0m \u001b[0mdct\u001b[0m\u001b[0;34m.\u001b[0m\u001b[0mvalues\u001b[0m\u001b[0;34m(\u001b[0m\u001b[0;34m)\u001b[0m\u001b[0;34m\u001b[0m\u001b[0;34m\u001b[0m\u001b[0m\n\u001b[0;32m----> 7\u001b[0;31m \u001b[0my\u001b[0m \u001b[0;34m=\u001b[0m \u001b[0mx\u001b[0m\u001b[0;34m.\u001b[0m\u001b[0mkeys\u001b[0m\u001b[0;34m(\u001b[0m\u001b[0;34m)\u001b[0m\u001b[0;34m\u001b[0m\u001b[0;34m\u001b[0m\u001b[0m\n\u001b[0m\u001b[1;32m      8\u001b[0m \u001b[0mprint\u001b[0m\u001b[0;34m(\u001b[0m\u001b[0mx\u001b[0m\u001b[0;34m)\u001b[0m\u001b[0;34m\u001b[0m\u001b[0;34m\u001b[0m\u001b[0m\n",
            "\u001b[0;31mAttributeError\u001b[0m: 'dict_values' object has no attribute 'keys'"
          ]
        }
      ]
    },
    {
      "cell_type": "code",
      "source": [
        "# 8 Guess the number\n",
        "# generate a random between 1-10 and store it\n",
        "# then ask the user to enter a number \n",
        "# if the user choice is greater than computer choice say 'too high'\n",
        "# if the user choice is smaller than computer choice say 'too low'\n",
        "# if the user choice is equal to computer choice say 'correct guess'\n",
        "# BONUS points: allow user a max of 3 guesses\n",
        "# will need: use google to learn how to generate a random number between 1-10\n",
        "\n",
        "import random\n",
        "#print(random.randint(1,9))\n",
        "x= random.randint(1,9)\n",
        "print(x)\n",
        "\n",
        "#val1 = input(\"Enter your value: \")\n",
        "#print(val1,type(val1))\n",
        "i = 0\n",
        "for i in range(0, 3):        \n",
        "  val = int(input(\"Enter your value: \"))\n",
        "  print(val)\n",
        "  if x<val:\n",
        "    print (\"value is too high\")\n",
        "  elif x>val:\n",
        "      print (\"value is too low\")\n",
        "  elif x==val:\n",
        "      print (\"correct guess\")\n",
        "      break\n",
        "  else: print(f'You failed, the correct guess was {val}, wanna try again?')\n",
        "\n",
        "\n"
      ],
      "metadata": {
        "colab": {
          "base_uri": "https://localhost:8080/"
        },
        "id": "sKKrM5VB-4Ho",
        "outputId": "559f96df-7959-4548-df3a-278e4ebfc2d9"
      },
      "execution_count": 152,
      "outputs": [
        {
          "output_type": "stream",
          "name": "stdout",
          "text": [
            "3\n",
            "Enter your value: 4\n",
            "4\n",
            "value is too high\n",
            "Enter your value: 1\n",
            "1\n",
            "value is too low\n",
            "Enter your value: 1\n",
            "1\n",
            "value is too low\n"
          ]
        }
      ]
    },
    {
      "cell_type": "code",
      "source": [
        "import random\n",
        "\n",
        "#print(random.randint(1,9))\n",
        "x= random.randint(1,9)\n",
        "print(x)\n",
        "i = 0\n",
        "while i<4:\n",
        "  val = int(input(\"Enter your value: \"))\n",
        "  print(val)\n",
        "  if x<val:\n",
        "    print (\"value is too high\")\n",
        "  elif x>val:\n",
        "      print (\"value is too low\")\n",
        "  else:\n",
        "      print (\"correct guess\")\n",
        "      break\n",
        "  i=i+1"
      ],
      "metadata": {
        "id": "jVs-cOOMFFsf"
      },
      "execution_count": null,
      "outputs": []
    },
    {
      "cell_type": "code",
      "source": [
        "#range\n",
        "\n",
        "print('>> range (end) >> 0, 1,..... end -1')\n",
        "\n",
        "for i in range(4):\n",
        "  print(i)\n",
        "\n",
        "print('>> range (start,end) >> start, start+1,..... end -1')\n",
        "\n",
        "for i in range(2,9):\n",
        "  print(i)\n",
        "\n",
        "print('>> range (start,end,step) >> start, start+step,..... end -1')\n",
        "\n",
        "for i in range(2,78,9):\n",
        "  print(i)"
      ],
      "metadata": {
        "colab": {
          "base_uri": "https://localhost:8080/"
        },
        "id": "SKpnRUgtEOZG",
        "outputId": "4e370c0f-1930-4fce-9b90-026260576046"
      },
      "execution_count": 141,
      "outputs": [
        {
          "output_type": "stream",
          "name": "stdout",
          "text": [
            ">> range (end) >> 0, 1,..... end -1\n",
            "0\n",
            "1\n",
            "2\n",
            "3\n",
            ">> range (start,end) >> start, start+1,..... end -1\n",
            "2\n",
            "3\n",
            "4\n",
            "5\n",
            "6\n",
            "7\n",
            "8\n",
            ">> range (start,end,step) >> start, start+step,..... end -1\n",
            "2\n",
            "11\n",
            "20\n",
            "29\n",
            "38\n",
            "47\n",
            "56\n",
            "65\n",
            "74\n"
          ]
        }
      ]
    },
    {
      "cell_type": "code",
      "source": [
        "#Print all even numbers\n",
        "for i in range(2,15,2):\n",
        "  print(i)"
      ],
      "metadata": {
        "colab": {
          "base_uri": "https://localhost:8080/"
        },
        "id": "jTR9rNKhE6l6",
        "outputId": "ce218edd-c04d-42f6-f351-3ef5c3f3109b"
      },
      "execution_count": 143,
      "outputs": [
        {
          "output_type": "stream",
          "name": "stdout",
          "text": [
            "2\n",
            "4\n",
            "6\n",
            "8\n",
            "10\n",
            "12\n",
            "14\n"
          ]
        }
      ]
    },
    {
      "cell_type": "code",
      "source": [
        "for i in range(5,0,-1):\n",
        "  print(i)"
      ],
      "metadata": {
        "colab": {
          "base_uri": "https://localhost:8080/"
        },
        "id": "SqM4PmKvFHzy",
        "outputId": "fded7798-5754-4083-cc3e-37679f6a86e2"
      },
      "execution_count": 145,
      "outputs": [
        {
          "output_type": "stream",
          "name": "stdout",
          "text": [
            "5\n",
            "4\n",
            "3\n",
            "2\n",
            "1\n"
          ]
        }
      ]
    },
    {
      "cell_type": "code",
      "source": [
        "#modulo\n",
        "\n",
        "print(5%2)\n",
        "print(17%3)\n",
        "print(16%2)"
      ],
      "metadata": {
        "colab": {
          "base_uri": "https://localhost:8080/"
        },
        "id": "WU671UaxIPFF",
        "outputId": "f82af8ce-035b-4701-e246-d850a9369bf9"
      },
      "execution_count": 159,
      "outputs": [
        {
          "output_type": "stream",
          "name": "stdout",
          "text": [
            "1\n",
            "2\n",
            "0\n"
          ]
        }
      ]
    },
    {
      "cell_type": "code",
      "source": [
        "#Floor division\n",
        "#largest integrer smaller or equal to the division value\n",
        "\n",
        "print(5//2)\n",
        "print(9//2.5)\n",
        "print(-7//2)"
      ],
      "metadata": {
        "colab": {
          "base_uri": "https://localhost:8080/"
        },
        "id": "yXoDzHmrIaTy",
        "outputId": "ee4c5242-b79f-442c-b458-ef08d3672b6a"
      },
      "execution_count": 158,
      "outputs": [
        {
          "output_type": "stream",
          "name": "stdout",
          "text": [
            "2\n",
            "3.0\n",
            "-4\n"
          ]
        }
      ]
    },
    {
      "cell_type": "markdown",
      "source": [
        ""
      ],
      "metadata": {
        "id": "8-OAPWXbKoBj"
      }
    },
    {
      "cell_type": "code",
      "source": [
        ""
      ],
      "metadata": {
        "id": "CBnvfXMuKoza"
      },
      "execution_count": null,
      "outputs": []
    },
    {
      "cell_type": "code",
      "source": [
        "  val = int(input(\"Enter your int: \"))\n",
        "  print(val)\n",
        "\n",
        "  if val==0:\n",
        "       print('number is zero')\n",
        "  elif val%2 == 0:\n",
        "    print('number is even') \n",
        "  else: print('number is odd') "
      ],
      "metadata": {
        "colab": {
          "base_uri": "https://localhost:8080/"
        },
        "id": "HVYsAx69JNzE",
        "outputId": "4c00abcf-6732-45b7-d183-46132ab4ae4f"
      },
      "execution_count": 170,
      "outputs": [
        {
          "output_type": "stream",
          "name": "stdout",
          "text": [
            "Enter your int: 0\n",
            "0\n",
            "number is zero\n"
          ]
        }
      ]
    }
  ]
}